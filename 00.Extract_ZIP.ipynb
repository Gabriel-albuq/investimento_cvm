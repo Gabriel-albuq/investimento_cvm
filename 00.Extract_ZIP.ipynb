{
 "cells": [
  {
   "cell_type": "code",
   "execution_count": 39,
   "metadata": {},
   "outputs": [],
   "source": [
    "import os\n",
    "import shutil\n",
    "import zipfile\n",
    "import pandas as pd\n",
    "\n",
    "# Defina o caminho para a pasta contendo os arquivos zip\n",
    "zip_folder = f\"Data\\\\00_ZIP\"\n",
    "# Defina o caminho para a pasta de destino dos arquivos xlsx extraídos\n",
    "xlsx_folder = f\"Data\\\\01_Bronze\"\n",
    "\n",
    "# Certifique-se de que a pasta de destino existe\n",
    "os.makedirs(xlsx_folder, exist_ok=True)\n",
    "\n",
    "# Percorrer todos os arquivos na pasta zip_folder\n",
    "for filename in os.listdir(zip_folder):\n",
    "    if filename.endswith('.zip'):\n",
    "        zip_path = os.path.join(zip_folder, filename)\n",
    "        with zipfile.ZipFile(zip_path, 'r') as zip_ref:\n",
    "            for file in zip_ref.namelist():\n",
    "                if file.endswith('.xlsx'):\n",
    "                    dest_path = os.path.join(xlsx_folder, os.path.basename(file)) # Caminho de destino para mover o arquivo xlsx\n",
    "                    with zip_ref.open(file) as source_file: # Extraia o arquivo xlsx do zip e mova-o para a pasta de destino\n",
    "                        with open(dest_path, 'wb') as dest_file:\n",
    "                            shutil.copyfileobj(source_file, dest_file)\n",
    "\n",
    "                    code = zip_path[zip_path.rfind(\"\\\\\") + 1 : zip_path.rfind(\".\")]\n",
    "                    new_path = os.path.join(xlsx_folder, code + \".xlsx\")\n",
    "                    os.rename(dest_path, new_path)\n",
    "                    print(f'{file} extraído de {zip_path} e movido para {new_path}')\n"
   ]
  },
  {
   "cell_type": "code",
   "execution_count": null,
   "metadata": {},
   "outputs": [],
   "source": []
  }
 ],
 "metadata": {
  "kernelspec": {
   "display_name": "venv",
   "language": "python",
   "name": "python3"
  },
  "language_info": {
   "codemirror_mode": {
    "name": "ipython",
    "version": 3
   },
   "file_extension": ".py",
   "mimetype": "text/x-python",
   "name": "python",
   "nbconvert_exporter": "python",
   "pygments_lexer": "ipython3",
   "version": "3.11.3"
  }
 },
 "nbformat": 4,
 "nbformat_minor": 2
}
