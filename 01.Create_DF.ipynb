{
 "cells": [
  {
   "cell_type": "code",
   "execution_count": 1,
   "metadata": {},
   "outputs": [
    {
     "name": "stdout",
     "output_type": "stream",
     "text": [
      "Data\\02_Silver\\20240530_230717_DF Cons Ativo.csv\n",
      "Data\\02_Silver\\20240530_230717_DF Cons Passivo.csv\n",
      "Data\\02_Silver\\20240530_230717_DF Cons Resultado Periodo.csv\n",
      "Data\\02_Silver\\20240530_230717_DF Cons Fluxo de Caixa.csv\n",
      "Data\\02_Silver\\20240530_230717_DF Ind Passivo.csv\n"
     ]
    }
   ],
   "source": [
    "import os\n",
    "import pandas as pd\n",
    "from datetime import datetime\n",
    "\n",
    "# Obter a data e hora atual\n",
    "current_datetime = datetime.now().strftime('%Y%m%d_%H%M%S')\n",
    "\n",
    "def create_df(sheet_name_input):\n",
    "    # Defina o caminho para a pasta contendo os arquivos xlsx\n",
    "    xlsx_folder = f\"Data\\\\01_Bronze\"\n",
    "    # Defina o caminho para a pasta de destino dos arquivos xlsx extraídos\n",
    "    df_folder = f\"Data\\\\02_Silver\"\n",
    "\n",
    "    # Certifique-se de que a pasta de destino existe\n",
    "    os.makedirs(df_folder, exist_ok=True)\n",
    "\n",
    "    df = []\n",
    "    # Percorrer todos os arquivos na pasta zip_folder\n",
    "    for filename in os.listdir(xlsx_folder):\n",
    "        if filename.endswith('.xlsx'):\n",
    "            name, file_extension = os.path.splitext(filename)\n",
    "            df_file = pd.read_excel(os.path.join(xlsx_folder, filename), sheet_name=sheet_name_input)\n",
    "            df_file['Codigo Empresa'] = name[:6]\n",
    "            df_file['Ano'] = name[6:10]\n",
    "            df_file['Mes'] = name[10:12]\n",
    "            df_file['Dia'] = name[12:14]\n",
    "            df_file['Data Ref'] = pd.to_datetime(df_file['Ano'].astype(str) + df_file['Mes'].astype(str) + df_file['Dia'].astype(str), format='%Y%m%d').dt.strftime('%Y%m%d')\n",
    "            \n",
    "            columns_to_sort = ['Codigo Empresa', 'Data Ref', 'Ano', 'Mes', 'Dia']\n",
    "            other_columns = [col for col in df_file.columns if col not in columns_to_sort]\n",
    "            df_file = df_file[columns_to_sort + other_columns]\n",
    "\n",
    "            df.append(df_file)\n",
    "\n",
    "    df = pd.concat(df, ignore_index=True)\n",
    "\n",
    "    # Exportar o DataFrame para um arquivo CSV com ponto e vírgula como separador\n",
    "    csv_file_path = os.path.join(df_folder, f\"{current_datetime}_{sheet_name_input}.csv\")\n",
    "    df.to_csv(csv_file_path, sep=';', index=False)\n",
    "\n",
    "    # Verificação do caminho do arquivo CSV gerado\n",
    "    print(csv_file_path)\n",
    "\n",
    "if __name__ == \"__main__\":\n",
    "    create_df(\"DF Cons Ativo\")\n",
    "    create_df(\"DF Cons Passivo\")\n",
    "    create_df(\"DF Cons Resultado Periodo\")\n",
    "    create_df(\"DF Cons Fluxo de Caixa\")\n",
    "    create_df(\"DF Ind Passivo\")"
   ]
  },
  {
   "cell_type": "code",
   "execution_count": null,
   "metadata": {},
   "outputs": [],
   "source": []
  }
 ],
 "metadata": {
  "kernelspec": {
   "display_name": "venv",
   "language": "python",
   "name": "python3"
  },
  "language_info": {
   "codemirror_mode": {
    "name": "ipython",
    "version": 3
   },
   "file_extension": ".py",
   "mimetype": "text/x-python",
   "name": "python",
   "nbconvert_exporter": "python",
   "pygments_lexer": "ipython3",
   "version": "3.11.3"
  }
 },
 "nbformat": 4,
 "nbformat_minor": 2
}
